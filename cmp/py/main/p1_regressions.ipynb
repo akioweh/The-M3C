{
 "cells": [
  {
   "cell_type": "markdown",
   "metadata": {
    "collapsed": false
   },
   "source": [
    "## Imports"
   ]
  },
  {
   "cell_type": "code",
   "execution_count": null,
   "metadata": {
    "collapsed": false
   },
   "outputs": [],
   "source": [
    "import math\n",
    "\n",
    "import pandas as pd\n",
    "import scipy as sp\n",
    "import matplotlib.pyplot as plt\n",
    "import numpy as np\n",
    "from sklearn.linear_model import LinearRegression\n",
    "from sklearn import metrics"
   ]
  },
  {
   "cell_type": "markdown",
   "metadata": {
    "collapsed": false
   },
   "source": [
    "## Load data"
   ]
  },
  {
   "cell_type": "code",
   "execution_count": null,
   "metadata": {
    "collapsed": false
   },
   "outputs": [],
   "source": [
    "data_xlsx = pd.ExcelFile('factors.xlsx')\n",
    "data_all_df = pd.read_excel(data_xlsx, 0)\n",
    "data_all_df.reset_index(drop=True, inplace=True)\n",
    "data_xlsx.close()\n",
    "data_all_df"
   ]
  },
  {
   "cell_type": "code",
   "execution_count": null,
   "metadata": {
    "collapsed": false
   },
   "outputs": [],
   "source": [
    "ebike_sales_df = data_all_df[['year', 'ebike_sales']]\n",
    "ebike_sales_df.columns = ['year', 'y']\n",
    "ebike_sales_df = ebike_sales_df[6:20]\n",
    "ebike_sales_df"
   ]
  },
  {
   "cell_type": "markdown",
   "metadata": {
    "collapsed": false
   },
   "source": [
    "## Graphing & Pre-Analysis"
   ]
  },
  {
   "cell_type": "code",
   "execution_count": null,
   "metadata": {
    "collapsed": false
   },
   "outputs": [],
   "source": [
    "ebike_gr = ebike_sales_df.plot(x='year', y='y', ylabel='thousands of units', title='e-bike sales in the UK', legend=None)"
   ]
  },
  {
   "cell_type": "code",
   "execution_count": null,
   "outputs": [],
   "source": [
    "# _ = ebike_gr.figure\n",
    "# _.figure.set_figwidth(8)\n",
    "# _.figure.set_figheight(6)\n",
    "# _.savefig('ebike.png', bbox_inches='tight', dpi=330)"
   ],
   "metadata": {
    "collapsed": false
   }
  },
  {
   "cell_type": "markdown",
   "metadata": {
    "collapsed": false
   },
   "source": [
    "## Simple Bi variate Analysis"
   ]
  },
  {
   "cell_type": "code",
   "execution_count": null,
   "outputs": [],
   "source": [
    "def bivariate_stats(x: pd.Series, y: pd.Series):\n",
    "    _pmcc = x.corr(y)\n",
    "    _covr = x.cov(y)\n",
    "\n",
    "    print(\n",
    "            f'PMCC: {_pmcc} \\n'\n",
    "            f'r^2:  {_pmcc ** 2} \\n'\n",
    "            f'Cov:  {_covr}'\n",
    "    )\n",
    "\n",
    "\n",
    "def univariate_graphs(x: pd.Series):\n",
    "    pd.plotting.autocorrelation_plot(x)\n",
    "    plt.show()\n",
    "\n",
    "\n",
    "def linear_reg_func(m: LinearRegression):\n",
    "    _coef = m.coef_[0][0]\n",
    "    _itcp = m.intercept_[0]\n",
    "    print(f'Linear Regressed: y = {_coef}x {\"+\" if abs(_itcp) == _itcp else \"-\"} {abs(_itcp)}')"
   ],
   "metadata": {
    "collapsed": false
   }
  },
  {
   "cell_type": "code",
   "execution_count": null,
   "outputs": [],
   "source": [
    "bivariate_stats(ebike_sales_df['year'], ebike_sales_df['y'])\n",
    "_ = pd.plotting.autocorrelation_plot(ebike_sales_df['y'])\n",
    "_.set_title('ebike ACF')\n",
    "\n",
    "_ = plt.figure(1, figsize=(8, 6))\n",
    "\n",
    "plt.show()\n",
    "\n",
    "# _.savefig('co2_acf.png', bbox_inches='tight', dpi=330)"
   ],
   "metadata": {
    "collapsed": false
   }
  },
  {
   "cell_type": "markdown",
   "metadata": {
    "collapsed": false
   },
   "source": [
    "## Forecasting"
   ]
  },
  {
   "cell_type": "code",
   "execution_count": null,
   "metadata": {
    "collapsed": false
   },
   "outputs": [],
   "source": [
    "PRED_YEARS = pd.DataFrame(range(2006, 2029))\n",
    "PRED_YEARS.columns = ['year']"
   ]
  },
  {
   "cell_type": "code",
   "execution_count": null,
   "outputs": [],
   "source": [
    "PRED_YEARS_PROPHET = PRED_YEARS.copy()\n",
    "PRED_YEARS_PROPHET.columns = ['ds']\n",
    "PRED_YEARS_PROPHET['ds'] = pd.to_datetime(PRED_YEARS_PROPHET['ds'], format='%Y')"
   ],
   "metadata": {
    "collapsed": false
   }
  },
  {
   "cell_type": "code",
   "execution_count": null,
   "outputs": [],
   "source": [
    "def error_stats(x: pd.Series, y: pd.Series):\n",
    "    _mse = metrics.mean_squared_error(x, y)\n",
    "    _mae = metrics.mean_absolute_error(x, y)\n",
    "    _mape = metrics.mean_absolute_percentage_error(x, y)\n",
    "    _r2 = metrics.r2_score(x, y)\n",
    "\n",
    "    print(\n",
    "            f'MSE:  {_mse} \\n'\n",
    "            f'RMSE: {math.sqrt(_mse)} \\n'\n",
    "            f'R^2:  {_r2} \\n'\n",
    "            f'MAE:  {_mae} \\n'\n",
    "            f'MAPE: {_mape}%'\n",
    "    )"
   ],
   "metadata": {
    "collapsed": false
   }
  },
  {
   "cell_type": "markdown",
   "source": [
    "### Linear"
   ],
   "metadata": {
    "collapsed": false
   }
  },
  {
   "cell_type": "code",
   "execution_count": null,
   "outputs": [],
   "source": [
    "def line_func(x, a, b):\n",
    "    return a * x + b"
   ],
   "metadata": {
    "collapsed": false
   }
  },
  {
   "cell_type": "code",
   "execution_count": null,
   "outputs": [],
   "source": [
    "m_ebike_lr = LinearRegression()\n",
    "\n",
    "m_ebike_lr.fit(ebike_sales_df[['year']], ebike_sales_df[['y']])\n",
    "pmt_ebike_lr = [m_ebike_lr.coef_, m_ebike_lr.intercept_]\n",
    "\n",
    "ebike_pred_lr = m_ebike_lr.predict(PRED_YEARS)\n",
    "ebike_pred_lr = pd.DataFrame(ebike_pred_lr)\n",
    "ebike_pred_lr.columns = ['y']"
   ],
   "metadata": {
    "collapsed": false
   }
  },
  {
   "cell_type": "code",
   "execution_count": null,
   "outputs": [],
   "source": [
    "bivariate_stats(ebike_sales_df['y'], ebike_pred_lr['y'])\n",
    "error_stats(ebike_sales_df['y'], ebike_pred_lr['y'][:14])"
   ],
   "metadata": {
    "collapsed": false
   }
  },
  {
   "cell_type": "code",
   "execution_count": null,
   "outputs": [],
   "source": [
    "plt.plot(PRED_YEARS, ebike_pred_lr, label='linear')\n",
    "plt.plot(ebike_sales_df['year'], ebike_sales_df['y'], label='actual')\n",
    "plt.title('e-bike sales in the UK')\n",
    "plt.ylabel('thousands of units')\n",
    "plt.xlabel('year')\n",
    "plt.legend()\n",
    "_ = plt.figure(1, figsize=(8, 6))\n",
    "plt.show()\n",
    "\n",
    "# _.savefig('co2_line.png', bbox_inches='tight', dpi=330)"
   ],
   "metadata": {
    "collapsed": false
   }
  },
  {
   "cell_type": "markdown",
   "source": [
    "### Exponential"
   ],
   "metadata": {
    "collapsed": false
   }
  },
  {
   "cell_type": "code",
   "execution_count": null,
   "outputs": [],
   "source": [
    "from scipy.optimize import curve_fit\n"
   ],
   "metadata": {
    "collapsed": false
   }
  },
  {
   "cell_type": "code",
   "execution_count": null,
   "metadata": {
    "collapsed": false
   },
   "outputs": [],
   "source": [
    "def exp_func(x, a, b, c):\n",
    "    return 2 ** ((x + a) * b) + c"
   ]
  },
  {
   "cell_type": "code",
   "execution_count": null,
   "metadata": {
    "collapsed": false
   },
   "outputs": [],
   "source": [
    "pmt_ebike_exp, cov = curve_fit(exp_func, ebike_sales_df['year'], ebike_sales_df['y'], p0=[-2000, 0.3, 10])\n",
    "print(pmt_ebike_exp)"
   ]
  },
  {
   "cell_type": "code",
   "execution_count": null,
   "metadata": {
    "collapsed": false
   },
   "outputs": [],
   "source": [
    "ebike_pred_exp = exp_func(PRED_YEARS, *pmt_ebike_exp)\n",
    "ebike_pred_exp.columns = ['y']"
   ]
  },
  {
   "cell_type": "code",
   "execution_count": null,
   "metadata": {
    "collapsed": false
   },
   "outputs": [],
   "source": [
    "bivariate_stats(ebike_sales_df['y'], ebike_pred_exp['y'])\n",
    "error_stats(ebike_sales_df['y'], ebike_pred_exp['y'][:14])\n",
    "\n",
    "print(f'Exponential Regressed: y = e^((x - {abs(pmt_ebike_exp[0]):.5}) * {pmt_ebike_exp[1]:.5}) + {pmt_ebike_exp[2]:.5}')"
   ]
  },
  {
   "cell_type": "code",
   "execution_count": null,
   "outputs": [],
   "source": [
    "plt.plot(PRED_YEARS, ebike_pred_exp, label='exponential')\n",
    "plt.plot(PRED_YEARS, ebike_pred_lr, label='linear', alpha=0.6)\n",
    "plt.plot(ebike_sales_df['year'], ebike_sales_df['y'], label='actual')\n",
    "plt.title('e-bike sales in the UK')\n",
    "plt.ylabel('thousands of units')\n",
    "plt.xlabel('year')\n",
    "plt.ylim(top=10_000)\n",
    "plt.legend()\n",
    "_ = plt.figure(1, figsize=(8, 6))\n",
    "plt.show()\n",
    "\n",
    "# _.savefig('co2_exp.png', bbox_inches='tight', dpi=330)"
   ],
   "metadata": {
    "collapsed": false
   }
  },
  {
   "cell_type": "markdown",
   "source": [
    "### Logistic"
   ],
   "metadata": {
    "collapsed": false
   }
  },
  {
   "cell_type": "code",
   "execution_count": null,
   "outputs": [],
   "source": [
    "def logi_func(x, x0, k, d):\n",
    "    return 9000 / (1 + np.exp(-k * (x - x0))) + d"
   ],
   "metadata": {
    "collapsed": false
   }
  },
  {
   "cell_type": "code",
   "execution_count": null,
   "outputs": [],
   "source": [
    "pmt_ebike_logi, cov = curve_fit(logi_func, ebike_sales_df['year'], ebike_sales_df['y'], p0=[2021, 0.3, 140], maxfev=100_000)\n",
    "print(pmt_ebike_logi)"
   ],
   "metadata": {
    "collapsed": false
   }
  },
  {
   "cell_type": "code",
   "execution_count": null,
   "outputs": [],
   "source": [
    "ebike_pred_logi = logi_func(PRED_YEARS, *pmt_ebike_logi)\n",
    "ebike_pred_logi.columns = ['y']"
   ],
   "metadata": {
    "collapsed": false
   }
  },
  {
   "cell_type": "code",
   "execution_count": null,
   "outputs": [],
   "source": [
    "bivariate_stats(ebike_sales_df['y'], ebike_pred_logi['y'])\n",
    "error_stats(ebike_sales_df['y'], ebike_pred_logi['y'][:14])\n",
    "print(\n",
    "        f'Logistic Regressed: '\n",
    "        f'{9000} / '\n",
    "        f'(1 + '\n",
    "        f'e^(-{pmt_ebike_logi[1]:.5} * (x - {pmt_ebike_logi[0]:.5}))'\n",
    "        f') + {pmt_ebike_logi[2]}'\n",
    ")"
   ],
   "metadata": {
    "collapsed": false
   }
  },
  {
   "cell_type": "code",
   "execution_count": null,
   "outputs": [],
   "source": [
    "plt.plot(PRED_YEARS, ebike_pred_exp, label='exponential')\n",
    "plt.plot(PRED_YEARS, ebike_pred_lr, label='linear')\n",
    "plt.plot(PRED_YEARS, ebike_pred_logi, label='logistic')\n",
    "plt.plot(ebike_sales_df['year'], ebike_sales_df['y'], label='actual')\n",
    "plt.title('e-bike sales in the UK')\n",
    "plt.ylabel('thousands of units')\n",
    "plt.xlabel('year')\n",
    "plt.ylim(top=10_000)\n",
    "plt.legend()\n",
    "plt.show()"
   ],
   "metadata": {
    "collapsed": false
   }
  },
  {
   "cell_type": "markdown",
   "source": [
    "### Sigmoid"
   ],
   "metadata": {
    "collapsed": false
   }
  },
  {
   "cell_type": "code",
   "execution_count": null,
   "outputs": [],
   "source": [
    "def sigm_func(x, slope, exp, x_ctr, y_min, y_max):\n",
    "    return ((x - x_ctr) / (\n",
    "            slope**-exp + (2 * abs(x - x_ctr) / (y_max - y_min))**exp\n",
    "    ) ** (1 / exp)) + (y_max - y_min) / 2 + y_min\n",
    "\n",
    "\n",
    "optim_pmt_man = [1111, 1.3, 2021, -630, 10_000]\n",
    "\n",
    "\n",
    "def sigm_func_lim(y_max=10_000):\n",
    "    def wrap(x, slope, exp, x_ctr, y_min):\n",
    "        return sigm_func(x, slope, exp, x_ctr, y_min, y_max)\n",
    "    return wrap"
   ],
   "metadata": {
    "collapsed": false
   }
  },
  {
   "cell_type": "code",
   "execution_count": null,
   "outputs": [],
   "source": [
    "pmt_co2_sigm, cov = curve_fit(sigm_func_lim(), ebike_sales_df['year'], ebike_sales_df['y'], p0=optim_pmt_man[:-1], maxfev=69420)\n",
    "print(pmt_co2_sigm)"
   ],
   "metadata": {
    "collapsed": false
   }
  },
  {
   "cell_type": "code",
   "execution_count": null,
   "outputs": [],
   "source": [
    "ebike_pred_sigm = sigm_func(PRED_YEARS, *pmt_co2_sigm, 10_000)\n",
    "ebike_pred_sigm.columns = ['y']"
   ],
   "metadata": {
    "collapsed": false
   }
  },
  {
   "cell_type": "code",
   "execution_count": null,
   "outputs": [],
   "source": [
    "bivariate_stats(ebike_sales_df['y'], ebike_pred_sigm['y'])\n",
    "error_stats(ebike_sales_df['y'], ebike_pred_sigm['y'][:14])"
   ],
   "metadata": {
    "collapsed": false
   }
  },
  {
   "cell_type": "code",
   "execution_count": null,
   "outputs": [],
   "source": [
    "plt.plot(PRED_YEARS, ebike_pred_sigm, label='sigmoid, L=10k')\n",
    "plt.plot(ebike_sales_df['year'], ebike_sales_df['y'], label='actual')\n",
    "plt.title('e-bike sales in the UK')\n",
    "plt.ylabel('thousands of units')\n",
    "plt.xlabel('year')\n",
    "plt.legend()\n",
    "_ = plt.figure(1, figsize=(8, 6))\n",
    "plt.show()\n",
    "\n",
    "# _.savefig('co2_sigm_565.png', bbox_inches='tight', dpi=330)"
   ],
   "metadata": {
    "collapsed": false
   }
  },
  {
   "cell_type": "markdown",
   "source": [
    "### Tilted Sigmoid"
   ],
   "metadata": {
    "collapsed": false
   }
  },
  {
   "cell_type": "code",
   "execution_count": null,
   "outputs": [],
   "source": [
    "def tilted_sig_func(x):\n",
    "    x_ctr = 2019.26\n",
    "    slope = 690.991\n",
    "    y_min = 2030.02\n",
    "    y_max = 7000.\n",
    "    exp = 2.01\n",
    "    t = 83.\n",
    "\n",
    "    return ((x - x_ctr) / (\n",
    "            slope**-exp + (2 * abs(x - x_ctr) / (y_max - y_min))**exp\n",
    "    ) ** (1 / exp)) + (y_max - y_min) / 2 + y_min + t * x - t * y_min"
   ],
   "metadata": {
    "collapsed": false
   }
  },
  {
   "cell_type": "code",
   "execution_count": null,
   "outputs": [],
   "source": [
    "ebike_pred_ts = tilted_sig_func(PRED_YEARS)\n",
    "ebike_pred_ts.columns = ['y']\n",
    "ebike_pred_ts"
   ],
   "metadata": {
    "collapsed": false
   }
  },
  {
   "cell_type": "code",
   "execution_count": null,
   "outputs": [],
   "source": [
    "bivariate_stats(ebike_sales_df['y'], ebike_pred_ts['y'])\n",
    "error_stats(ebike_sales_df['y'], ebike_pred_ts['y'][:14])"
   ],
   "metadata": {
    "collapsed": false
   }
  },
  {
   "cell_type": "code",
   "execution_count": null,
   "outputs": [],
   "source": [
    "plt.plot(PRED_YEARS, ebike_pred_exp, label='exponential')\n",
    "plt.plot(PRED_YEARS, ebike_pred_lr, label='linear')\n",
    "plt.plot(PRED_YEARS, ebike_pred_logi, label='logistic')\n",
    "plt.plot(PRED_YEARS, ebike_pred_ts, label='tilted_sig')\n",
    "plt.scatter(ebike_sales_df['year'], ebike_sales_df['y'], label='actual')\n",
    "plt.title('e-bike sales in the UK')\n",
    "plt.ylabel('thousands of units')\n",
    "plt.xlabel('year')\n",
    "plt.ylim(bottom=0, top=10_000)\n",
    "plt.legend()\n",
    "plt.show()\n"
   ],
   "metadata": {
    "collapsed": false
   }
  },
  {
   "cell_type": "code",
   "execution_count": null,
   "outputs": [],
   "source": [
    "e = tilted_sig_func(pd.DataFrame(range(2020,2029)))\n",
    "e.columns = ['y']\n",
    "e"
   ],
   "metadata": {
    "collapsed": false
   }
  },
  {
   "cell_type": "code",
   "execution_count": null,
   "outputs": [],
   "source": [
    "for i in range(len(e['y'])):\n",
    "    print(sum(e['y'][:i]))\n"
   ],
   "metadata": {
    "collapsed": false
   }
  },
  {
   "cell_type": "code",
   "execution_count": null,
   "outputs": [],
   "source": [],
   "metadata": {
    "collapsed": false
   }
  }
 ],
 "metadata": {
  "kernelspec": {
   "display_name": "Python 3.8.10 64-bit (microsoft store)",
   "language": "python",
   "name": "python3"
  },
  "language_info": {
   "codemirror_mode": {
    "name": "ipython",
    "version": 3
   },
   "file_extension": ".py",
   "mimetype": "text/x-python",
   "name": "python",
   "nbconvert_exporter": "python",
   "pygments_lexer": "ipython3",
   "version": "3.8.10"
  },
  "vscode": {
   "interpreter": {
    "hash": "24362dbedb7b92e56c70896c00bc399ca08481c7751078d3b8af558a24ad6fc3"
   }
  }
 },
 "nbformat": 4,
 "nbformat_minor": 0
}
