{
 "cells": [
  {
   "cell_type": "code",
   "execution_count": 15,
   "metadata": {},
   "outputs": [],
   "source": [
    "import pandas as pd\n",
    "import matplotlib.pyplot as plt\n",
    "from statsmodels.tsa.stattools import adfuller\n",
    "from statsmodels.tsa.arima.model import ARIMA\n",
    "from statsmodels.graphics.tsaplots import plot_acf,plot_pacf\n",
    "import numpy as np"
   ]
  },
  {
   "cell_type": "code",
   "execution_count": 16,
   "metadata": {},
   "outputs": [
    {
     "name": "stdout",
     "output_type": "stream",
     "text": [
      "      percentage\n",
      "year            \n",
      "2011           7\n",
      "2012           7\n",
      "2013           7\n",
      "2014          10\n",
      "2015           9\n",
      "2016           9\n",
      "2017           9\n",
      "2018          13\n",
      "2019          25\n",
      "2020          25\n",
      "2021          30\n",
      "2022          27\n"
     ]
    },
    {
     "data": {
      "image/png": "[encoded data removed]",
      "text/plain": [
       "<Figure size 640x480 with 1 Axes>"
      ]
     },
     "metadata": {},
     "output_type": "display_data"
    }
   ],
   "source": [
    "df = pd.read_csv('env_perceptions.csv')\n",
    "df.columns=[\"year\",\"percentage\"]\n",
    "\n",
    "df.set_index('year', inplace=True)\n",
    "df.plot()\n",
    "print(df)"
   ]
  },
  {
   "cell_type": "code",
   "execution_count": 17,
   "metadata": {},
   "outputs": [
    {
     "name": "stdout",
     "output_type": "stream",
     "text": [
      "ADF Test Statistic: 4.771330104787463\n",
      "p-value: 1.0\n",
      "#Lags Used: 4\n",
      "Number of Observations: 7\n",
      "Non-stationary\n"
     ]
    }
   ],
   "source": [
    "def adfuller_test(ppm):\n",
    "    result = adfuller(ppm)\n",
    "    labels = ['ADF Test Statistic','p-value','#Lags Used','Number of Observations']\n",
    "    for value, label in zip(result,labels):\n",
    "        print(f'{label}: {value}' )\n",
    "\n",
    "    print('Stationary' if result[1] <= 0.05 else 'Non-stationary')\n",
    "\n",
    "adfuller_test(df['percentage'])"
   ]
  },
  {
   "cell_type": "code",
   "execution_count": 18,
   "metadata": {},
   "outputs": [
    {
     "data": {
      "text/html": [
       "<div>\n",
       "<style scoped>\n",
       "    .dataframe tbody tr th:only-of-type {\n",
       "        vertical-align: middle;\n",
       "    }\n",
       "\n",
       "    .dataframe tbody tr th {\n",
       "        vertical-align: top;\n",
       "    }\n",
       "\n",
       "    .dataframe thead th {\n",
       "        text-align: right;\n",
       "    }\n",
       "</style>\n",
       "<table border=\"1\" class=\"dataframe\">\n",
       "  <thead>\n",
       "    <tr style=\"text-align: right;\">\n",
       "      <th></th>\n",
       "      <th>percentage</th>\n",
       "      <th>First Difference</th>\n",
       "      <th>Seasonal First Difference</th>\n",
       "    </tr>\n",
       "    <tr>\n",
       "      <th>year</th>\n",
       "      <th></th>\n",
       "      <th></th>\n",
       "      <th></th>\n",
       "    </tr>\n",
       "  </thead>\n",
       "  <tbody>\n",
       "    <tr>\n",
       "      <th>2011</th>\n",
       "      <td>7</td>\n",
       "      <td>NaN</td>\n",
       "      <td>NaN</td>\n",
       "    </tr>\n",
       "    <tr>\n",
       "      <th>2012</th>\n",
       "      <td>7</td>\n",
       "      <td>0.0</td>\n",
       "      <td>NaN</td>\n",
       "    </tr>\n",
       "    <tr>\n",
       "      <th>2013</th>\n",
       "      <td>7</td>\n",
       "      <td>0.0</td>\n",
       "      <td>NaN</td>\n",
       "    </tr>\n",
       "    <tr>\n",
       "      <th>2014</th>\n",
       "      <td>10</td>\n",
       "      <td>3.0</td>\n",
       "      <td>NaN</td>\n",
       "    </tr>\n",
       "    <tr>\n",
       "      <th>2015</th>\n",
       "      <td>9</td>\n",
       "      <td>-1.0</td>\n",
       "      <td>NaN</td>\n",
       "    </tr>\n",
       "    <tr>\n",
       "      <th>2016</th>\n",
       "      <td>9</td>\n",
       "      <td>0.0</td>\n",
       "      <td>NaN</td>\n",
       "    </tr>\n",
       "    <tr>\n",
       "      <th>2017</th>\n",
       "      <td>9</td>\n",
       "      <td>0.0</td>\n",
       "      <td>NaN</td>\n",
       "    </tr>\n",
       "    <tr>\n",
       "      <th>2018</th>\n",
       "      <td>13</td>\n",
       "      <td>4.0</td>\n",
       "      <td>NaN</td>\n",
       "    </tr>\n",
       "    <tr>\n",
       "      <th>2019</th>\n",
       "      <td>25</td>\n",
       "      <td>12.0</td>\n",
       "      <td>NaN</td>\n",
       "    </tr>\n",
       "    <tr>\n",
       "      <th>2020</th>\n",
       "      <td>25</td>\n",
       "      <td>0.0</td>\n",
       "      <td>NaN</td>\n",
       "    </tr>\n",
       "    <tr>\n",
       "      <th>2021</th>\n",
       "      <td>30</td>\n",
       "      <td>5.0</td>\n",
       "      <td>NaN</td>\n",
       "    </tr>\n",
       "    <tr>\n",
       "      <th>2022</th>\n",
       "      <td>27</td>\n",
       "      <td>-3.0</td>\n",
       "      <td>NaN</td>\n",
       "    </tr>\n",
       "  </tbody>\n",
       "</table>\n",
       "</div>"
      ],
      "text/plain": [
       "      percentage  First Difference  Seasonal First Difference\n",
       "year                                                         \n",
       "2011           7               NaN                        NaN\n",
       "2012           7               0.0                        NaN\n",
       "2013           7               0.0                        NaN\n",
       "2014          10               3.0                        NaN\n",
       "2015           9              -1.0                        NaN\n",
       "2016           9               0.0                        NaN\n",
       "2017           9               0.0                        NaN\n",
       "2018          13               4.0                        NaN\n",
       "2019          25              12.0                        NaN\n",
       "2020          25               0.0                        NaN\n",
       "2021          30               5.0                        NaN\n",
       "2022          27              -3.0                        NaN"
      ]
     },
     "execution_count": 18,
     "metadata": {},
     "output_type": "execute_result"
    }
   ],
   "source": [
    "df['First Difference'] = df['percentage'] - df['percentage'].shift(1)\n",
    "df['Seasonal First Difference']=df['percentage']-df['percentage'].shift(12)\n",
    "\n",
    "df"
   ]
  },
  {
   "cell_type": "code",
   "execution_count": 20,
   "metadata": {},
   "outputs": [
    {
     "ename": "ValueError",
     "evalue": "sample size is too short to use selected regression component",
     "output_type": "error",
     "traceback": [
      "\u001B[1;31m---------------------------------------------------------------------------\u001B[0m",
      "\u001B[1;31mValueError\u001B[0m                                Traceback (most recent call last)",
      "\u001B[1;32mc:\\Users\\krypt\\OneDrive\\Documents\\GitHub\\The-M3C\\cmp\\py\\main\\env_perceptions.ipynb Cell 5\u001B[0m in \u001B[0;36m1\n\u001B[1;32m----> <a href='vscode-notebook-cell:/c%3A/Users/krypt/OneDrive/Documents/GitHub/The-M3C/cmp/py/main/env_perceptions.ipynb#W4sZmlsZQ%3D%3D?line=0'>1</a>\u001B[0m adfuller(df[\u001B[39m'\u001B[39;49m\u001B[39mSeasonal First Difference\u001B[39;49m\u001B[39m'\u001B[39;49m]\u001B[39m.\u001B[39;49mdropna()\u001B[39m.\u001B[39;49mastype(\u001B[39m'\u001B[39;49m\u001B[39mint\u001B[39;49m\u001B[39m'\u001B[39;49m))\n",
      "File \u001B[1;32m~\\AppData\\Local\\Packages\\PythonSoftwareFoundation.Python.3.8_qbz5n2kfra8p0\\LocalCache\\local-packages\\Python38\\site-packages\\statsmodels\\tsa\\stattools.py:288\u001B[0m, in \u001B[0;36madfuller\u001B[1;34m(x, maxlag, regression, autolag, store, regresults)\u001B[0m\n\u001B[0;32m    286\u001B[0m     maxlag \u001B[39m=\u001B[39m \u001B[39mmin\u001B[39m(nobs \u001B[39m/\u001B[39m\u001B[39m/\u001B[39m \u001B[39m2\u001B[39m \u001B[39m-\u001B[39m ntrend \u001B[39m-\u001B[39m \u001B[39m1\u001B[39m, maxlag)\n\u001B[0;32m    287\u001B[0m     \u001B[39mif\u001B[39;00m maxlag \u001B[39m<\u001B[39m \u001B[39m0\u001B[39m:\n\u001B[1;32m--> 288\u001B[0m         \u001B[39mraise\u001B[39;00m \u001B[39mValueError\u001B[39;00m(\n\u001B[0;32m    289\u001B[0m             \u001B[39m\"\u001B[39m\u001B[39msample size is too short to use selected \u001B[39m\u001B[39m\"\u001B[39m\n\u001B[0;32m    290\u001B[0m             \u001B[39m\"\u001B[39m\u001B[39mregression component\u001B[39m\u001B[39m\"\u001B[39m\n\u001B[0;32m    291\u001B[0m         )\n\u001B[0;32m    292\u001B[0m \u001B[39melif\u001B[39;00m maxlag \u001B[39m>\u001B[39m nobs \u001B[39m/\u001B[39m\u001B[39m/\u001B[39m \u001B[39m2\u001B[39m \u001B[39m-\u001B[39m ntrend \u001B[39m-\u001B[39m \u001B[39m1\u001B[39m:\n\u001B[0;32m    293\u001B[0m     \u001B[39mraise\u001B[39;00m \u001B[39mValueError\u001B[39;00m(\n\u001B[0;32m    294\u001B[0m         \u001B[39m\"\u001B[39m\u001B[39mmaxlag must be less than (nobs/2 - 1 - ntrend) \u001B[39m\u001B[39m\"\u001B[39m\n\u001B[0;32m    295\u001B[0m         \u001B[39m\"\u001B[39m\u001B[39mwhere n trend is the number of included \u001B[39m\u001B[39m\"\u001B[39m\n\u001B[0;32m    296\u001B[0m         \u001B[39m\"\u001B[39m\u001B[39mdeterministic regressors\u001B[39m\u001B[39m\"\u001B[39m\n\u001B[0;32m    297\u001B[0m     )\n",
      "\u001B[1;31mValueError\u001B[0m: sample size is too short to use selected regression component"
     ]
    }
   ],
   "source": [
    "adfuller(df['Seasonal First Difference'].dropna().astype('int'))"
   ]
  },
  {
   "cell_type": "code",
   "execution_count": null,
   "metadata": {},
   "outputs": [],
   "source": [
    "df['Seasonal First Difference'].plot()"
   ]
  },
  {
   "cell_type": "code",
   "execution_count": null,
   "metadata": {},
   "outputs": [],
   "source": [
    "plot_acf(df['Seasonal First Difference'].dropna())\n",
    "plot_pacf(df['Seasonal First Difference'].dropna())\n",
    "plt.show()"
   ]
  },
  {
   "cell_type": "code",
   "execution_count": null,
   "metadata": {},
   "outputs": [],
   "source": [
    "model = ARIMA(df['petrol'], order=(1,2,1))\n",
    "model_fit = model.fit()\n",
    "future_years = pd.date_range(start='2022', periods=5, freq='Y')\n",
    "future_percentages = model_fit.forecast(steps=5).values\n",
    "print(future_percentages)\n"
   ]
  }
 ],
 "metadata": {
  "kernelspec": {
   "display_name": "Python 3",
   "language": "python",
   "name": "python3"
  },
  "language_info": {
   "codemirror_mode": {
    "name": "ipython",
    "version": 3
   },
   "file_extension": ".py",
   "mimetype": "text/x-python",
   "name": "python",
   "nbconvert_exporter": "python",
   "pygments_lexer": "ipython3",
   "version": "3.8.10"
  },
  "orig_nbformat": 4
 },
 "nbformat": 4,
 "nbformat_minor": 2
}
