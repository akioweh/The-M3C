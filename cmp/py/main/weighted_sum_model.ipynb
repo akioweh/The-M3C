{
 "cells": [
  {
   "cell_type": "code",
   "execution_count": 1,
   "outputs": [],
   "source": [
    "from typing import Callable"
   ],
   "metadata": {
    "collapsed": false
   }
  },
  {
   "cell_type": "code",
   "execution_count": 2,
   "metadata": {
    "collapsed": true
   },
   "outputs": [],
   "source": [
    "def pred_sales_year(\n",
    "        year: int,\n",
    "        factors: tuple[float],\n",
    "        factor_models: list[Callable[[int], float]],\n",
    "        factor_sales_corr_models: list[Callable[[int], float]],\n",
    "        weights: list[float]\n",
    ") -> float:\n",
    "    \"\"\"Predicts the next year's factors based on the previous year's factors and the parameters.\n",
    "    \"\"\"\n",
    "\n",
    "    # a recursive mathematical model, where the next year's factors are calculated based on the previous year's factors and the parameters\n",
    "\n",
    "    # factors are co-dependent; they can affect each other\n",
    "    # we firstly use the standalone model for each factor to predict next year's value\n",
    "    # then, apply the co-dependence calculations to modify the predictions based on the other factors\n",
    "\n",
    "    factor_preds: list[float] = [\n",
    "        model(year)\n",
    "        for model in factor_models\n",
    "    ]\n",
    "\n",
    "    sales_preds: list[float] = [\n",
    "        model(factor_val)\n",
    "        for factor_val, model in zip(factor_preds, factor_sales_corr_models)\n",
    "    ]\n",
    "\n",
    "    # weighted sum based on the parameters\n",
    "    res =  sum(\n",
    "            pred * param\n",
    "            for pred, param in zip(sales_preds, weights)\n",
    "    ) / len(factor_models)\n",
    "\n",
    "    return res\n",
    "\n"
   ]
  },
  {
   "cell_type": "code",
   "execution_count": null,
   "outputs": [],
   "source": [],
   "metadata": {
    "collapsed": false
   }
  }
 ],
 "metadata": {
  "kernelspec": {
   "display_name": "Python 3",
   "language": "python",
   "name": "python3"
  },
  "language_info": {
   "codemirror_mode": {
    "name": "ipython",
    "version": 2
   },
   "file_extension": ".py",
   "mimetype": "text/x-python",
   "name": "python",
   "nbconvert_exporter": "python",
   "pygments_lexer": "ipython2",
   "version": "2.7.6"
  }
 },
 "nbformat": 4,
 "nbformat_minor": 0
}
